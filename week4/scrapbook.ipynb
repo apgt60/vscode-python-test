{
 "cells": [
  {
   "cell_type": "code",
   "execution_count": 4,
   "id": "45026a0a",
   "metadata": {},
   "outputs": [
    {
     "name": "stdout",
     "output_type": "stream",
     "text": [
      "A          I                M       L       \n"
     ]
    }
   ],
   "source": [
    "import re\n",
    "\n",
    "string = 'Artificial Intelligence and Machine Learning'\n",
    "\n",
    "pattern = r'[a-z]'\n",
    "\n",
    "\n",
    "cleaned_string = ''.join(re.sub(pattern, ' ', string))\n",
    "\n",
    "print(cleaned_string)"
   ]
  },
  {
   "cell_type": "code",
   "execution_count": 11,
   "id": "aead402c",
   "metadata": {},
   "outputs": [
    {
     "ename": "KeyboardInterrupt",
     "evalue": "",
     "output_type": "error",
     "traceback": [
      "\u001b[31m---------------------------------------------------------------------------\u001b[39m",
      "\u001b[31mKeyboardInterrupt\u001b[39m                         Traceback (most recent call last)",
      "\u001b[36mCell\u001b[39m\u001b[36m \u001b[39m\u001b[32mIn[11]\u001b[39m\u001b[32m, line 14\u001b[39m\n\u001b[32m     11\u001b[39m         \u001b[38;5;28;01mreturn\u001b[39;00m n\n\u001b[32m     12\u001b[39m     \u001b[38;5;28;01mreturn\u001b[39;00m fibonacci(n-\u001b[32m1\u001b[39m) + fibonacci(n-\u001b[32m2\u001b[39m)\n\u001b[32m---> \u001b[39m\u001b[32m14\u001b[39m \u001b[38;5;28mprint\u001b[39m(fibonacci(\u001b[32m50\u001b[39m))\n",
      "\u001b[36mCell\u001b[39m\u001b[36m \u001b[39m\u001b[32mIn[11]\u001b[39m\u001b[32m, line 12\u001b[39m, in \u001b[36mfibonacci\u001b[39m\u001b[34m(n)\u001b[39m\n\u001b[32m     10\u001b[39m \u001b[38;5;28;01mif\u001b[39;00m n <= \u001b[32m1\u001b[39m:\n\u001b[32m     11\u001b[39m     \u001b[38;5;28;01mreturn\u001b[39;00m n\n\u001b[32m---> \u001b[39m\u001b[32m12\u001b[39m \u001b[38;5;28;01mreturn\u001b[39;00m fibonacci(n-\u001b[32m1\u001b[39m) + fibonacci(n-\u001b[32m2\u001b[39m)\n",
      "\u001b[36mCell\u001b[39m\u001b[36m \u001b[39m\u001b[32mIn[11]\u001b[39m\u001b[32m, line 12\u001b[39m, in \u001b[36mfibonacci\u001b[39m\u001b[34m(n)\u001b[39m\n\u001b[32m     10\u001b[39m \u001b[38;5;28;01mif\u001b[39;00m n <= \u001b[32m1\u001b[39m:\n\u001b[32m     11\u001b[39m     \u001b[38;5;28;01mreturn\u001b[39;00m n\n\u001b[32m---> \u001b[39m\u001b[32m12\u001b[39m \u001b[38;5;28;01mreturn\u001b[39;00m fibonacci(n-\u001b[32m1\u001b[39m) + fibonacci(n-\u001b[32m2\u001b[39m)\n",
      "    \u001b[31m[... skipping similar frames: fibonacci at line 12 (35 times)]\u001b[39m\n",
      "\u001b[36mCell\u001b[39m\u001b[36m \u001b[39m\u001b[32mIn[11]\u001b[39m\u001b[32m, line 12\u001b[39m, in \u001b[36mfibonacci\u001b[39m\u001b[34m(n)\u001b[39m\n\u001b[32m     10\u001b[39m \u001b[38;5;28;01mif\u001b[39;00m n <= \u001b[32m1\u001b[39m:\n\u001b[32m     11\u001b[39m     \u001b[38;5;28;01mreturn\u001b[39;00m n\n\u001b[32m---> \u001b[39m\u001b[32m12\u001b[39m \u001b[38;5;28;01mreturn\u001b[39;00m fibonacci(n-\u001b[32m1\u001b[39m) + fibonacci(n-\u001b[32m2\u001b[39m)\n",
      "\u001b[36mCell\u001b[39m\u001b[36m \u001b[39m\u001b[32mIn[11]\u001b[39m\u001b[32m, line 5\u001b[39m, in \u001b[36mfibonacci\u001b[39m\u001b[34m(n)\u001b[39m\n\u001b[32m      2\u001b[39m \u001b[38;5;28;01mimport\u001b[39;00m\u001b[38;5;250m \u001b[39m\u001b[34;01mos\u001b[39;00m\n\u001b[32m      3\u001b[39m \u001b[38;5;28;01mimport\u001b[39;00m\u001b[38;5;250m \u001b[39m\u001b[34;01mtime\u001b[39;00m\n\u001b[32m----> \u001b[39m\u001b[32m5\u001b[39m \u001b[38;5;28;01mdef\u001b[39;00m\u001b[38;5;250m \u001b[39m\u001b[34mfibonacci\u001b[39m(n):\n\u001b[32m      6\u001b[39m \u001b[38;5;250m    \u001b[39m\u001b[33;03m\"\"\"\u001b[39;00m\n\u001b[32m      7\u001b[39m \u001b[33;03m    Calculates the nth Fibonacci number.\u001b[39;00m\n\u001b[32m      8\u001b[39m \u001b[33;03m    This function will be executed by multiple processes.\u001b[39;00m\n\u001b[32m      9\u001b[39m \u001b[33;03m    \"\"\"\u001b[39;00m\n\u001b[32m     10\u001b[39m     \u001b[38;5;28;01mif\u001b[39;00m n <= \u001b[32m1\u001b[39m:\n",
      "\u001b[31mKeyboardInterrupt\u001b[39m: "
     ]
    }
   ],
   "source": [
    "import concurrent.futures\n",
    "import os\n",
    "import time\n",
    "\n",
    "def fibonacci(n):\n",
    "    \"\"\"\n",
    "    Calculates the nth Fibonacci number.\n",
    "    This function will be executed by multiple processes.\n",
    "    \"\"\"\n",
    "    if n <= 1:\n",
    "        return n\n",
    "    return fibonacci(n-1) + fibonacci(n-2)\n",
    "\n",
    "print(fibonacci(50))"
   ]
  }
 ],
 "metadata": {
  "kernelspec": {
   "display_name": "base",
   "language": "python",
   "name": "python3"
  },
  "language_info": {
   "codemirror_mode": {
    "name": "ipython",
    "version": 3
   },
   "file_extension": ".py",
   "mimetype": "text/x-python",
   "name": "python",
   "nbconvert_exporter": "python",
   "pygments_lexer": "ipython3",
   "version": "3.13.5"
  }
 },
 "nbformat": 4,
 "nbformat_minor": 5
}
